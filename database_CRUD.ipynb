{
 "cells": [
  {
   "cell_type": "markdown",
   "metadata": {},
   "source": [
    "<h1><center>Database CRUD</center></h1>\n",
    "\n",
    "<center><img src=\"https://simplonline.co/_next/image?url=https%3A%2F%2Fsimplonline-v3-prod.s3.eu-west-3.amazonaws.com%2Fmedia%2Fimage%2Fjpg%2F8999e43e-b0c8-487c-93da-8edad1053392.jpg&w=1280&q=75\" alt=\"data center\" title=\"Data Center\"  style=\"object-fit:cover; width:800px; height:250px;\"/></center>"
   ]
  },
  {
   "cell_type": "markdown",
   "metadata": {},
   "source": [
    "> __*Created by Charley Lebarbier*__"
   ]
  },
  {
   "cell_type": "markdown",
   "metadata": {},
   "source": [
    "## Objectifs :  \n",
    "\n",
    "Contexte du projet\n",
    "\n",
    "Futurs développeur en intelligence artificielle, vous serez amenés la plupart du temps à récupérer, stocker puis analyser des données.  \n",
    "Connaître le fonctionnemment des bases de données relationnelles est donc primordial...\n",
    "\n",
    "Votre mission si vous l'acceptez :\n",
    "\n",
    "__Dans phpMyAdmin__  \n",
    "  \n",
    "- I) Créer une base de données que vous appelerez : CountriesDatas  \n",
    "- II) Vous ajouterez deux tables à de cette nouvelle base:  \n",
    "  - a) countries (code, name)  \n",
    "  - b) populations (id, LOCATION, TIME , Value)  \n",
    "\n",
    "*NB: Pour l'id vous pourrez l'ajouter lorsque vous ferez les INSERTs,*  \n",
    "*par exemple le 1er INSERT possède un id = 1, le 2ème id = 2, etc.*\n",
    "\n",
    "​_______\n",
    "\n",
    "__Dans un jupyter notebook__  \n",
    "  \n",
    "- III) Ensuite, vous devrez peupler les tables countries et populations \n",
    "respectivement à l'aide des fichiers suivants : country.txt et population.csv \n",
    "\n",
    "- IV) Enfin vous executerez une query de type SELECT sur la table population, \n",
    "en incluant un JOIN sur la table countries. Le but étant d'afficher les \n",
    "elements les \"name\" de la table countries au lieu des \"LOCATION\" de la table \n",
    "populations.  \n",
    "  \n",
    "*NB: Votre query devrait vous retourner une liste de tuple du type :*  \n",
    "*[(217, 'Canada', datetime.date(1950, 1, 1), 14018600.0),*  \n",
    "*(218, 'Canada', datetime.date(1951, 1, 1), 14318200.0),*  \n",
    "*(219, 'Canada', datetime.date(1952, 1, 1), 14776300.0),*  \n",
    "*(220, 'Canada', datetime.date(1953, 1, 1), 15169800.0),*  \n",
    "*...]*  \n",
    "  \n",
    "- V) Pour finir, vous convertirez le resultat de la query précedente en dataframe"
   ]
  },
  {
   "cell_type": "markdown",
   "metadata": {},
   "source": [
    "__________________________\n",
    "__________________________"
   ]
  },
  {
   "cell_type": "markdown",
   "metadata": {},
   "source": [
    "#### Import des librairies"
   ]
  },
  {
   "cell_type": "code",
   "execution_count": 79,
   "metadata": {},
   "outputs": [],
   "source": [
    "# Import libraries\n",
    "import pandas as pd\n",
    "import mysql.connector as mysqlco\n",
    "from mysql.connector import Error"
   ]
  },
  {
   "cell_type": "markdown",
   "metadata": {},
   "source": [
    "#### Lecture des fichiers"
   ]
  },
  {
   "cell_type": "code",
   "execution_count": 80,
   "metadata": {},
   "outputs": [],
   "source": [
    "# File reader : .txt or .csv\n",
    "def read_file(file):\n",
    "    \"\"\"import a file (.txt or .csv) and prepare to inject in database\"\"\"\n",
    "\n",
    "    try:\n",
    "        # For .txt file\n",
    "        if file.endswith('.txt'):\n",
    "            # All data files are in folder 'data'\n",
    "            with open(f'data/{file}', 'r') as f:\n",
    "                file_content = []\n",
    "\n",
    "                for row in f:\n",
    "                    row_dict = {}\n",
    "\n",
    "                    row = row.replace(' __****__ ', ' ')\n",
    "                    row = row.replace('\\n', '')\n",
    "\n",
    "                    row_dict['code'] = row.strip('\\n').split()[0]\n",
    "                    row_dict['name'] = row.split(' ', 1)[1]\n",
    "\n",
    "                    file_content.append(row_dict)\n",
    "                # print(file_content)\n",
    "\n",
    "        # For .csv file\n",
    "        if file.endswith('.csv'):\n",
    "            # All data files are in folder 'data'\n",
    "            file_content = pd.read_csv(f'data/{file}')\n",
    "            file_content.drop('Flag Codes', axis=1, inplace=True) \n",
    "            # print(file_content)\n",
    "            \n",
    "        return file_content\n",
    "\n",
    "\n",
    "    except Exception as e:\n",
    "        print(f\"Error read_file : {e}\")\n",
    "        return False\n",
    "\n",
    "countries = read_file('country.txt')\n",
    "populations = read_file('population.csv')"
   ]
  },
  {
   "cell_type": "code",
   "execution_count": 81,
   "metadata": {},
   "outputs": [],
   "source": [
    "# Check the variables containing the files\n",
    "\n",
    "# print(countries)\n",
    "# print('\\n\\n')\n",
    "# print(populations)"
   ]
  },
  {
   "cell_type": "markdown",
   "metadata": {},
   "source": [
    "#### Déclaration des info de connexion à la BDD"
   ]
  },
  {
   "cell_type": "code",
   "execution_count": 82,
   "metadata": {},
   "outputs": [],
   "source": [
    "connection_config = {\n",
    "                        \"host\" : \"localhost\",\n",
    "                        \"user\" :\"root\",\n",
    "                        \"password\" : \"example\",\n",
    "                        \"auth_plugin\" : \"mysql_native_password\",\n",
    "                        \"database\" : \"CountriesDatas\",\n",
    "                        \"port\" : \"3307\"\n",
    "                    }"
   ]
  },
  {
   "cell_type": "markdown",
   "metadata": {},
   "source": [
    "#### Insertion des data 'country.txt' dans table 'Countries'"
   ]
  },
  {
   "cell_type": "code",
   "execution_count": 83,
   "metadata": {},
   "outputs": [
    {
     "name": "stdout",
     "output_type": "stream",
     "text": [
      "La table 'Countries' a été mise à jour.\n"
     ]
    },
    {
     "data": {
      "text/plain": [
       "True"
      ]
     },
     "execution_count": 83,
     "metadata": {},
     "output_type": "execute_result"
    }
   ],
   "source": [
    "# Inject 'country' -> 'Countries' Table\n",
    "def insert_data(config_co):\n",
    "    \"\"\"Inject data into a table\"\"\"\n",
    "    try:\n",
    "        db = mysqlco.connect(**config_co)\n",
    "        cursor = db.cursor()\n",
    "            \n",
    "        for i, row in enumerate(countries):\n",
    "            c_code = countries[i]['code']\n",
    "            c_name = countries[i]['name']\n",
    "        \n",
    "            sql = f\"\"\"\n",
    "                    INSERT INTO Countries (code, name)\n",
    "                    VALUES (\"{c_code}\", \"{c_name}\")\n",
    "                    ON DUPLICATE KEY UPDATE name = \"{c_name}\"; \n",
    "                   \"\"\"\n",
    "            cursor.execute(sql)\n",
    "            db.commit()\n",
    "\n",
    "        print(\"La table 'Countries' a été mise à jour.\")\n",
    "        return True\n",
    "\n",
    "\n",
    "    except Exception as e:\n",
    "        print(f\"Error insert_data : {e}\")\n",
    "        return False\n",
    "    \n",
    "    \n",
    "    finally:\n",
    "        if db.is_connected():\n",
    "            db.close\n",
    "            cursor.close()\n",
    "\n",
    "insert_data(connection_config)"
   ]
  },
  {
   "cell_type": "markdown",
   "metadata": {},
   "source": [
    "#### Insertion des data 'population.csv' -> 'Populations'"
   ]
  },
  {
   "cell_type": "code",
   "execution_count": 84,
   "metadata": {},
   "outputs": [
    {
     "name": "stdout",
     "output_type": "stream",
     "text": [
      "La table 'Populations' a été mise à jour.\n"
     ]
    },
    {
     "data": {
      "text/plain": [
       "True"
      ]
     },
     "execution_count": 84,
     "metadata": {},
     "output_type": "execute_result"
    }
   ],
   "source": [
    "# Inject 'populations' -> 'Populations' Table\n",
    "def insert_data(config_co):\n",
    "    \"\"\"Inject data into a table\"\"\"\n",
    "    try:\n",
    "        db = mysqlco.connect(**config_co)\n",
    "        cursor = db.cursor()\n",
    "\n",
    "        for index, data in populations.iterrows():\n",
    "            # id, location, time, value\n",
    "            sql = f\"\"\"\n",
    "                    INSERT INTO Populations (id, location, time, value)\n",
    "                    VALUES ({index}, \"{data['LOCATION']}\", \n",
    "                            {data['TIME']}, {data['Value']})\n",
    "                    ON DUPLICATE KEY UPDATE location = \"{data['LOCATION']}\", \n",
    "                    time={data['TIME']}, value={data['Value']}; \n",
    "                   \"\"\"\n",
    "            cursor.execute(sql)\n",
    "            db.commit()\n",
    "\n",
    "        print(\"La table 'Populations' a été mise à jour.\")\n",
    "        return True\n",
    "\n",
    "\n",
    "    except Exception as e:\n",
    "        print(f\"Error insert_data : {e}\")\n",
    "        return False\n",
    "    \n",
    "    \n",
    "    finally:\n",
    "        if db.is_connected():\n",
    "            db.close\n",
    "            cursor.close()\n",
    "\n",
    "insert_data(connection_config)"
   ]
  },
  {
   "cell_type": "markdown",
   "metadata": {},
   "source": [
    "#### Retourner une selection sur table 'Populations' pour afficher une liste de tuples comme celle-ci : \n",
    "\n",
    "*(217, 'Canada', datetime.date(1950, 1, 1), 14018600.0),*  \n",
    "*(218, 'Canada', datetime.date(1951, 1, 1), 14318200.0),*  \n",
    "*(219, 'Canada', datetime.date(1952, 1, 1), 14776300.0),*  \n",
    "*(220, 'Canada', datetime.date(1953, 1, 1), 15169800.0),*  \n",
    "*...*  "
   ]
  },
  {
   "cell_type": "code",
   "execution_count": 91,
   "metadata": {},
   "outputs": [],
   "source": [
    "def select_and_join(config_co):\n",
    "    \"\"\"Select some data in one table and join with another then display\"\"\"\n",
    "    try:\n",
    "        db = mysqlco.connect(**config_co)\n",
    "        cursor = db.cursor()\n",
    "\n",
    "        sql = f\"\"\"\n",
    "                SELECT Populations.id, Countries.name, \n",
    "                       Populations.time, Populations.value\n",
    "                FROM Populations\n",
    "                INNER JOIN Countries ON Populations.location = Countries.code;\n",
    "               \"\"\"\n",
    "        cursor.execute(sql)\n",
    "        result = cursor.fetchall()\n",
    "\n",
    "        return tuple(result)\n",
    "        \n",
    "\n",
    "    except Exception as e:\n",
    "        print(f\"Error select_and_join : {e}\")\n",
    "        return False\n",
    "\n",
    "\n",
    "    finally:\n",
    "        if db.is_connected():\n",
    "            db.close()\n",
    "            cursor.close()\n",
    "\n",
    "pop_by_countries = select_and_join(connection_config)"
   ]
  },
  {
   "cell_type": "code",
   "execution_count": null,
   "metadata": {},
   "outputs": [],
   "source": [
    "# Display the result\n",
    "\n",
    "print(*pop_by_countries, sep='\\n')"
   ]
  },
  {
   "cell_type": "markdown",
   "metadata": {},
   "source": [
    "#### Conversion de notre resultat en dataframe"
   ]
  },
  {
   "cell_type": "code",
   "execution_count": 94,
   "metadata": {},
   "outputs": [],
   "source": [
    "# Convert pop_by_countries in dataframe\n",
    "\n",
    "df_Pop_Countries = pd.DataFrame(pop_by_countries, \n",
    "    columns = ['id', 'country_name', 'year', 'population'])"
   ]
  },
  {
   "cell_type": "code",
   "execution_count": 95,
   "metadata": {},
   "outputs": [
    {
     "name": "stdout",
     "output_type": "stream",
     "text": [
      "          id country_name  year  population\n",
      "0          0    Australia  1951    2.971132\n",
      "1          1    Australia  1952    2.550554\n",
      "2          2    Australia  1953    2.070283\n",
      "3          3    Australia  1954    1.942078\n",
      "4          4    Australia  1955    2.372448\n",
      "...      ...          ...   ...         ...\n",
      "12332  15627    Singapore  2016    0.790967\n",
      "12333  15628    Singapore  2017    0.819538\n",
      "12334  15629    Singapore  2018    0.718317\n",
      "12335  15630    Singapore  2019    0.799292\n",
      "12336  15631    Singapore  2020    0.447096\n",
      "\n",
      "[12337 rows x 4 columns]\n"
     ]
    }
   ],
   "source": [
    "# Display the new dataframe\n",
    "\n",
    "print(df_Pop_Countries)"
   ]
  },
  {
   "cell_type": "markdown",
   "metadata": {},
   "source": [
    "<center><h2>The End</h2></center>"
   ]
  }
 ],
 "metadata": {
  "kernelspec": {
   "display_name": "Python 3.10.6 64-bit",
   "language": "python",
   "name": "python3"
  },
  "language_info": {
   "codemirror_mode": {
    "name": "ipython",
    "version": 3
   },
   "file_extension": ".py",
   "mimetype": "text/x-python",
   "name": "python",
   "nbconvert_exporter": "python",
   "pygments_lexer": "ipython3",
   "version": "3.10.6"
  },
  "orig_nbformat": 4,
  "vscode": {
   "interpreter": {
    "hash": "916dbcbb3f70747c44a77c7bcd40155683ae19c65e1c03b4aa3499c5328201f1"
   }
  }
 },
 "nbformat": 4,
 "nbformat_minor": 2
}
